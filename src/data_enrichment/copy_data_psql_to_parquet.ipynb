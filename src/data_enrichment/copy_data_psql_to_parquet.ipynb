{
 "cells": [
  {
   "cell_type": "code",
   "execution_count": 83,
   "id": "2f13651c",
   "metadata": {},
   "outputs": [],
   "source": [
    "from pyspark.sql import SparkSession\n",
    "import os\n",
    "from dotenv import load_dotenv  "
   ]
  },
  {
   "cell_type": "code",
   "execution_count": 84,
   "id": "c1ba6eb5",
   "metadata": {},
   "outputs": [],
   "source": [
    "# Update path to match where your JAR file is downloaded - make sure it's absolute path\n",
    "jdbc_jar_path = \"/home/riddhi/Documents/Riddhi-Tech/Projects/Python-Projects/CRUD-Flask/library/postgresql-42.7.3.jar\"\n",
    "spark = SparkSession.builder \\\n",
    "        .appName(\"PostgreSQLIngestion\") \\\n",
    "        .config(\"spark.jars\", jdbc_jar_path) \\\n",
    "        .config(\"spark.driver.extraClassPath\", jdbc_jar_path) \\\n",
    "        .getOrCreate()"
   ]
  },
  {
   "cell_type": "code",
   "execution_count": 85,
   "id": "4cb47efc",
   "metadata": {},
   "outputs": [
    {
     "data": {
      "text/html": [
       "\n",
       "            <div>\n",
       "                <p><b>SparkSession - in-memory</b></p>\n",
       "                \n",
       "        <div>\n",
       "            <p><b>SparkContext</b></p>\n",
       "\n",
       "            <p><a href=\"http://192.168.2.38:4041\">Spark UI</a></p>\n",
       "\n",
       "            <dl>\n",
       "              <dt>Version</dt>\n",
       "                <dd><code>v4.0.0</code></dd>\n",
       "              <dt>Master</dt>\n",
       "                <dd><code>local[*]</code></dd>\n",
       "              <dt>AppName</dt>\n",
       "                <dd><code>PostgreSQLIngestion</code></dd>\n",
       "            </dl>\n",
       "        </div>\n",
       "        \n",
       "            </div>\n",
       "        "
      ],
      "text/plain": [
       "<pyspark.sql.session.SparkSession at 0x77070023ae40>"
      ]
     },
     "execution_count": 85,
     "metadata": {},
     "output_type": "execute_result"
    }
   ],
   "source": [
    "spark"
   ]
  },
  {
   "cell_type": "code",
   "execution_count": 86,
   "id": "48d845b9",
   "metadata": {},
   "outputs": [
    {
     "name": "stdout",
     "output_type": "stream",
     "text": [
      "/home/riddhi/Documents/Riddhi-Tech/Projects/Python-Projects/CRUD-Flask/library/postgresql-42.7.3.jar\n"
     ]
    }
   ],
   "source": [
    "print(spark.sparkContext._conf.get('spark.jars'))"
   ]
  },
  {
   "cell_type": "code",
   "execution_count": 87,
   "id": "fd42bd3e",
   "metadata": {},
   "outputs": [
    {
     "name": "stdout",
     "output_type": "stream",
     "text": [
      "123abc456 sampledb riddhi_psql users_schema registration\n"
     ]
    }
   ],
   "source": [
    "# Load environment variables\n",
    "load_dotenv()\n",
    "\n",
    "DB_PASSWORD = os.environ.get('DB_PASSWORD')\n",
    "DB_NAME = os.environ.get('DB_NAME')\n",
    "DB_USER = os.environ.get('DB_USER')\n",
    "SCHEMA_NAME = os.environ.get('SCHEMA_NAME')\n",
    "REGISTRATION_TABLE = os.environ.get('REGISTRATION_TABLE')\n",
    "print(DB_PASSWORD, DB_NAME, DB_USER, SCHEMA_NAME, REGISTRATION_TABLE)"
   ]
  },
  {
   "cell_type": "code",
   "execution_count": null,
   "id": "b3a33bbb",
   "metadata": {},
   "outputs": [],
   "source": [
    "\n",
    "#This sets up the metadata to ingest your source table.\n",
    "# JDBC URL and properties for PostgreSQL\n",
    "jdbc_url = \"jdbc:postgresql://localhost:5432/\"+ DB_NAME\n",
    "jdbc_properties = {\n",
    "    \"user\": DB_USER,\n",
    "    \"password\": DB_PASSWORD,\n",
    "    \"driver\": \"org.postgresql.Driver\"\n",
    "}\n",
    "\n",
    "table_name = f\"{SCHEMA_NAME}.{REGISTRATION_TABLE}\"\n",
    "print(jdbc_url, jdbc_properties, table_name)"
   ]
  },
  {
   "cell_type": "code",
   "execution_count": null,
   "id": "335196f8",
   "metadata": {},
   "outputs": [],
   "source": [
    "# Read data from PostgreSQL into a DataFrame\n",
    "df = spark.read.jdbc( \\\n",
    "url=jdbc_url, \\\n",
    "table=table_name, \\\n",
    "properties=jdbc_properties \\\n",
    ") \n",
    "\n",
    "# Show the schema and first few rows of the DataFrame\n",
    "df.printSchema()\n",
    "df.show(1)"
   ]
  },
  {
   "cell_type": "code",
   "execution_count": 90,
   "id": "65eb9098",
   "metadata": {},
   "outputs": [],
   "source": [
    "# Write the DataFrame to Parquet format\n",
    "base_dir = \"/home/riddhi/Documents/Riddhi-Tech/Projects/Python-Projects/CRUD-Flask/\"\n",
    "output_dir = os.path.join(base_dir, \"datasets\", \"parquet\", \"registration_data\")\n",
    "if not os.path.exists(output_dir):\n",
    "    os.makedirs(output_dir)\n",
    "df.write.parquet(f\"{output_dir}/output_data\", mode=\"overwrite\")"
   ]
  },
  {
   "cell_type": "code",
   "execution_count": null,
   "id": "25c4e5ef",
   "metadata": {},
   "outputs": [],
   "source": [
    "df2 = spark.read.parquet(f\"{output_dir}/output_data\")\n",
    "df2.show(8)"
   ]
  }
 ],
 "metadata": {
  "kernelspec": {
   "display_name": "crud_flask_venv (3.13.3)",
   "language": "python",
   "name": "python3"
  },
  "language_info": {
   "codemirror_mode": {
    "name": "ipython",
    "version": 3
   },
   "file_extension": ".py",
   "mimetype": "text/x-python",
   "name": "python",
   "nbconvert_exporter": "python",
   "pygments_lexer": "ipython3",
   "version": "3.13.3"
  }
 },
 "nbformat": 4,
 "nbformat_minor": 5
}
